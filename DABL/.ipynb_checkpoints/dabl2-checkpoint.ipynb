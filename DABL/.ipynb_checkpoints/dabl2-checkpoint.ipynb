{
 "cells": [
  {
   "cell_type": "code",
   "execution_count": 1,
   "metadata": {},
   "outputs": [],
   "source": [
    "import dabl\n",
    "from sklearn.model_selection import train_test_split\n",
    "from sklearn.datasets import load_boston"
   ]
  },
  {
   "cell_type": "code",
   "execution_count": 3,
   "metadata": {},
   "outputs": [],
   "source": [
    "X, y = load_boston(return_X_y=True)"
   ]
  },
  {
   "cell_type": "code",
   "execution_count": 4,
   "metadata": {},
   "outputs": [],
   "source": [
    "X_train, X_test, y_train, y_test = train_test_split(X, y, random_state=1)"
   ]
  },
  {
   "cell_type": "code",
   "execution_count": 5,
   "metadata": {},
   "outputs": [
    {
     "name": "stdout",
     "output_type": "stream",
     "text": [
      "Running DummyRegressor()\n",
      "r2: -0.027 neg_mean_squared_error: -80.239\n",
      "=== new best DummyRegressor() (using r2):\n",
      "r2: -0.027 neg_mean_squared_error: -80.239\n",
      "\n",
      "Running DecisionTreeRegressor(max_depth=1)\n",
      "r2: 0.423 neg_mean_squared_error: -45.623\n",
      "=== new best DecisionTreeRegressor(max_depth=1) (using r2):\n",
      "r2: 0.423 neg_mean_squared_error: -45.623\n",
      "\n",
      "Running DecisionTreeRegressor(max_depth=5)\n",
      "r2: 0.753 neg_mean_squared_error: -18.936\n",
      "=== new best DecisionTreeRegressor(max_depth=5) (using r2):\n",
      "r2: 0.753 neg_mean_squared_error: -18.936\n",
      "\n",
      "Running Ridge(alpha=10)\n",
      "r2: 0.660 neg_mean_squared_error: -26.350\n",
      "Running Lasso(alpha=10)\n",
      "r2: -0.027 neg_mean_squared_error: -80.239\n",
      "\n",
      "Best model:\n",
      "DecisionTreeRegressor(max_depth=5)\n",
      "Best Scores:\n",
      "r2: 0.753 neg_mean_squared_error: -18.936\n"
     ]
    }
   ],
   "source": [
    "sc = dabl.SimpleRegressor().fit(X_train, y_train)"
   ]
  },
  {
   "cell_type": "code",
   "execution_count": null,
   "metadata": {},
   "outputs": [],
   "source": []
  },
  {
   "cell_type": "code",
   "execution_count": null,
   "metadata": {},
   "outputs": [],
   "source": []
  }
 ],
 "metadata": {
  "kernelspec": {
   "display_name": "Python 3",
   "language": "python",
   "name": "python3"
  },
  "language_info": {
   "codemirror_mode": {
    "name": "ipython",
    "version": 3
   },
   "file_extension": ".py",
   "mimetype": "text/x-python",
   "name": "python",
   "nbconvert_exporter": "python",
   "pygments_lexer": "ipython3",
   "version": "3.8.5"
  }
 },
 "nbformat": 4,
 "nbformat_minor": 4
}
